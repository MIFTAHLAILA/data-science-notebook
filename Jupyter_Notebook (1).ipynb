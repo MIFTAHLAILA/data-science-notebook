{
 "cells": [
  {
   "cell_type": "markdown",
   "metadata": {},
   "source": [
    "<center>\n",
    "    <img src=\"https://cf-courses-data.s3.us.cloud-object-storage.appdomain.cloud/IBMDeveloperSkillsNetwork-DS0105EN-SkillsNetwork/labs/Module2/images/SN_web_lightmode.png\" width=\"300\" alt=\"cognitiveclass.ai logo\">\n",
    "</center>\n"
   ]
  },
  {
   "cell_type": "code",
   "execution_count": null,
   "metadata": {},
   "outputs": [],
   "source": []
  },
  {
   "cell_type": "markdown",
   "metadata": {},
   "source": [
    "#### Add your code below following the instructions given in the course\n"
   ]
  },
  {
   "cell_type": "code",
   "execution_count": 5,
   "metadata": {},
   "outputs": [
    {
     "name": "stdout",
     "output_type": "stream",
     "text": [
      "Full name laila miftah\n",
      "Email: laila.miftah2020@gmail.com\n",
      "coursera ID: laila MIFTAH\n"
     ]
    }
   ],
   "source": [
    "full_name = \"laila miftah\"\n",
    "email = \"laila.miftah2020@gmail.com\"\n",
    "coursera_id = \"laila MIFTAH\"\n",
    "print(\"Full name\", full_name)\n",
    "print(\"Email:\", email)\n",
    "print(\"coursera ID:\", coursera_id)"
   ]
  },
  {
   "cell_type": "markdown",
   "metadata": {},
   "source": [
    "## my first python project"
   ]
  },
  {
   "cell_type": "markdown",
   "metadata": {},
   "source": [
    "markdown\n",
    "\n",
    "this project shows my skills in jupyter notebook, including markdown and code cells"
   ]
  },
  {
   "cell_type": "code",
   "execution_count": null,
   "metadata": {},
   "outputs": [],
   "source": []
  },
  {
   "cell_type": "markdown",
   "metadata": {},
   "source": [
    "## data science languages\n",
    "1. python\n",
    "2. R\n",
    "3. SQL\n",
    "4. java\n",
    "5. julia"
   ]
  },
  {
   "cell_type": "code",
   "execution_count": null,
   "metadata": {},
   "outputs": [],
   "source": []
  },
  {
   "cell_type": "markdown",
   "metadata": {},
   "source": [
    "## common data science libraries \n",
    "\n",
    "here are some popular libraries used in data science: \n",
    "- NumPy\n",
    "- Pandas\n",
    "- Matplotlib\n",
    "- Seaborn\n",
    "- Scikit-learn\n",
    "- TensorFlow\n",
    "- Keras\n",
    "\n"
   ]
  },
  {
   "cell_type": "code",
   "execution_count": null,
   "metadata": {},
   "outputs": [],
   "source": []
  },
  {
   "cell_type": "markdown",
   "metadata": {},
   "source": [
    "### Machine Learning Algorithms\n",
    "\n",
    "| Algorithm         | Type           | Description                          |\n",
    "|------------------|----------------|--------------------------------------|\n",
    "| Linear Regression | Supervised     | Predicts a continuous value          |\n",
    "| K-Means           | Unsupervised   | Clusters data into groups            |\n",
    "| Decision Tree     | Supervised     | Makes decisions based on features    |\n",
    "| PCA               | Dimensionality | Reduces number of features           |"
   ]
  },
  {
   "cell_type": "markdown",
   "metadata": {},
   "source": [
    "## Arithmetic expressions in python \n",
    "\n",
    "in python , arithmetic expressions are used to perform basic mathematical operation . \n",
    "here are a few examples : \n",
    "\n",
    "-Addition : `2 + 3 = 5`\n",
    "-Subtrction: `7-2 =5`\n",
    "-Multiplication: `4*2 = 8 `\n",
    "-Division: `10/2 = 5`\n",
    "\n"
   ]
  },
  {
   "cell_type": "markdown",
   "metadata": {},
   "source": [
    "multiplication = 5 * 4 \n",
    "\n",
    "addition = 10 + 7 \n",
    "\n",
    "print(\"Multiplication result:\", multiplication)\n",
    "\n",
    "\n",
    "print(\"Addition result:\", addition)"
   ]
  },
  {
   "cell_type": "markdown",
   "metadata": {},
   "source": [
    "### Benefits of learning python:\n",
    "\n",
    "1. Easy to read and write.\n",
    "2. widely used in data science and ai\n",
    "3. has a large supportive community"
   ]
  },
  {
   "cell_type": "markdown",
   "metadata": {},
   "source": [
    "### Popular python libraries for data science:\n",
    "\n",
    "-NumPy\n",
    "-Pandas\n",
    "-Matplotlib"
   ]
  },
  {
   "cell_type": "markdown",
   "metadata": {},
   "source": [
    "| Tool       | Function                  |\n",
    "|------------|---------------------------|\n",
    "| Pandas     | Data manipulation         |\n",
    "| NumPy      | Numerical computations    |\n",
    "| Matplotlib | Data visualization        |"
   ]
  },
  {
   "cell_type": "markdown",
   "metadata": {},
   "source": [
    "![Pandas Logo](https://upload.wikimedia.org/wikipedia/commons/e/ed/Pandas_logo.svg)"
   ]
  },
  {
   "cell_type": "markdown",
   "metadata": {},
   "source": [
    "| Tool       | Function                  |\n",
    "|------------|--------------------------"
   ]
  }
 ],
 "metadata": {
  "kernelspec": {
   "display_name": "Python 3 (ipykernel)",
   "language": "python",
   "name": "python3"
  },
  "language_info": {
   "codemirror_mode": {
    "name": "ipython",
    "version": 3
   },
   "file_extension": ".py",
   "mimetype": "text/x-python",
   "name": "python",
   "nbconvert_exporter": "python",
   "pygments_lexer": "ipython3",
   "version": "3.12.8"
  }
 },
 "nbformat": 4,
 "nbformat_minor": 4
}
